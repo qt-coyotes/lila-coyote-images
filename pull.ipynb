{
 "cells": [
  {
   "cell_type": "code",
   "execution_count": null,
   "metadata": {},
   "outputs": [],
   "source": [
    "import urllib.parse\n",
    "import urllib.request\n",
    "from concurrent.futures import ThreadPoolExecutor\n",
    "from pathlib import Path\n",
    "\n",
    "import pandas as pd\n",
    "from tqdm import tqdm"
   ]
  },
  {
   "cell_type": "code",
   "execution_count": null,
   "metadata": {},
   "outputs": [],
   "source": [
    "# https://lila.science/public/lila_image_urls_and_labels.csv.zip\n",
    "LILA_IMAGES_URLS_AND_LABELS = 'data/lila_image_urls_and_labels.csv'\n",
    "LILA_COYOTE_IMAGES_URLS_AND_LABELS = 'data/lila_coyote_image_urls_and_labels.csv'"
   ]
  },
  {
   "cell_type": "code",
   "execution_count": null,
   "metadata": {},
   "outputs": [],
   "source": [
    "with open(LILA_IMAGES_URLS_AND_LABELS) as i, open(LILA_COYOTE_IMAGES_URLS_AND_LABELS, 'w') as o:\n",
    "    o.write(i.readline())\n",
    "    for line in i:\n",
    "        if 'coyote' in line:\n",
    "            o.write(line)\n"
   ]
  },
  {
   "cell_type": "code",
   "execution_count": null,
   "metadata": {},
   "outputs": [],
   "source": [
    "df = pd.read_csv(LILA_COYOTE_IMAGES_URLS_AND_LABELS)\n",
    "df"
   ]
  },
  {
   "cell_type": "code",
   "execution_count": null,
   "metadata": {},
   "outputs": [],
   "source": [
    "def download(url: str):\n",
    "    filename = f\"data{urllib.parse.urlparse(url).path}\"\n",
    "    path = Path(filename)\n",
    "    path.parent.mkdir(parents=True, exist_ok=True)\n",
    "    if path.exists():\n",
    "        return\n",
    "    retries = 0\n",
    "    while True:\n",
    "        try:\n",
    "            urllib.request.urlretrieve(url, filename)\n",
    "            break\n",
    "        except Exception as e:\n",
    "            retries += 1\n",
    "            if retries == 3:\n",
    "                raise e\n"
   ]
  },
  {
   "cell_type": "code",
   "execution_count": null,
   "metadata": {},
   "outputs": [],
   "source": [
    "def main():\n",
    "    with ThreadPoolExecutor(max_workers=256) as executor:\n",
    "        results = list(\n",
    "            tqdm(executor.map(download, df['url']), total=len(df['url']))\n",
    "        )\n",
    "\n",
    "main()\n",
    "    "
   ]
  }
 ],
 "metadata": {
  "kernelspec": {
   "display_name": "env",
   "language": "python",
   "name": "python3"
  },
  "language_info": {
   "codemirror_mode": {
    "name": "ipython",
    "version": 3
   },
   "file_extension": ".py",
   "mimetype": "text/x-python",
   "name": "python",
   "nbconvert_exporter": "python",
   "pygments_lexer": "ipython3",
   "version": "3.10.9"
  },
  "orig_nbformat": 4,
  "vscode": {
   "interpreter": {
    "hash": "b6b223d1bdad75eb2a6ddf38b4258c41c233228a35ae4d7a77df7cfd8edf9215"
   }
  }
 },
 "nbformat": 4,
 "nbformat_minor": 2
}
